{
  "nbformat": 4,
  "nbformat_minor": 0,
  "metadata": {
    "colab": {
      "name": "강화학습과게임2.ipynb",
      "provenance": [],
      "collapsed_sections": [],
      "include_colab_link": true
    },
    "kernelspec": {
      "name": "python3",
      "display_name": "Python 3"
    },
    "language_info": {
      "name": "python"
    }
  },
  "cells": [
    {
      "cell_type": "markdown",
      "metadata": {
        "id": "view-in-github",
        "colab_type": "text"
      },
      "source": [
        "<a href=\"https://colab.research.google.com/github/Chan0226/Reinforcement-learning-game/blob/main/%EA%B0%95%ED%99%94%ED%95%99%EC%8A%B5%EA%B3%BC%EA%B2%8C%EC%9E%842.ipynb\" target=\"_parent\"><img src=\"https://colab.research.google.com/assets/colab-badge.svg\" alt=\"Open In Colab\"/></a>"
      ]
    },
    {
      "cell_type": "code",
      "metadata": {
        "colab": {
          "base_uri": "https://localhost:8080/"
        },
        "id": "kYlBdYV9pRRO",
        "outputId": "0ecf0658-7adb-4cf8-bf01-8da10b6c29a0"
      },
      "source": [
        "import gym\n",
        "\n",
        "# 환경 불러오기\n",
        "env=gym.make(\"FrozenLake-v0\",is_slippery=False)\n",
        "print(env.observation_space)\n",
        "print(env.action_space)\n",
        "\n",
        "n_trial=50\n",
        "\n",
        "# 에피소드 수집\n",
        "env.reset()\n",
        "episode=[]\n",
        "for i in range(n_trial):\n",
        "    action=env.action_space.sample() # 행동을 취함(랜덤 선택)\n",
        "    #  새로운상태, 보상, 에피소드의끝여부,부가정보\n",
        "    obs,reward,done,info=env.step(action) # 보상을 받고 상태가 바뀜\n",
        "\n",
        "    episode.append([action,reward,obs])\n",
        "    env.render()\n",
        "    if done:\n",
        "        break\n",
        "\n",
        "print(episode)\n",
        "env.close()"
      ],
      "execution_count": null,
      "outputs": [
        {
          "output_type": "stream",
          "name": "stdout",
          "text": [
            "Discrete(16)\n",
            "Discrete(4)\n",
            "  (Up)\n",
            "\u001b[41mS\u001b[0mFFF\n",
            "FHFH\n",
            "FFFH\n",
            "HFFG\n",
            "  (Left)\n",
            "\u001b[41mS\u001b[0mFFF\n",
            "FHFH\n",
            "FFFH\n",
            "HFFG\n",
            "  (Up)\n",
            "\u001b[41mS\u001b[0mFFF\n",
            "FHFH\n",
            "FFFH\n",
            "HFFG\n",
            "  (Down)\n",
            "SFFF\n",
            "\u001b[41mF\u001b[0mHFH\n",
            "FFFH\n",
            "HFFG\n",
            "  (Up)\n",
            "\u001b[41mS\u001b[0mFFF\n",
            "FHFH\n",
            "FFFH\n",
            "HFFG\n",
            "  (Right)\n",
            "S\u001b[41mF\u001b[0mFF\n",
            "FHFH\n",
            "FFFH\n",
            "HFFG\n",
            "  (Down)\n",
            "SFFF\n",
            "F\u001b[41mH\u001b[0mFH\n",
            "FFFH\n",
            "HFFG\n",
            "[[3, 0.0, 0], [0, 0.0, 0], [3, 0.0, 0], [1, 0.0, 4], [3, 0.0, 0], [2, 0.0, 1], [1, 0.0, 5]]\n"
          ]
        }
      ]
    },
    {
      "cell_type": "code",
      "metadata": {
        "id": "Q5NxX6d-I4F0"
      },
      "source": [
        ""
      ],
      "execution_count": null,
      "outputs": []
    },
    {
      "cell_type": "code",
      "metadata": {
        "id": "sS8mYKL6rxS0"
      },
      "source": [
        ""
      ],
      "execution_count": null,
      "outputs": []
    },
    {
      "cell_type": "code",
      "metadata": {
        "id": "IOmSYEX9B3PX"
      },
      "source": [
        ""
      ],
      "execution_count": null,
      "outputs": []
    }
  ]
}