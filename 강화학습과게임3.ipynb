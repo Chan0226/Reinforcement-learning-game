{
  "nbformat": 4,
  "nbformat_minor": 0,
  "metadata": {
    "colab": {
      "name": "강화학습과게임3.ipynb",
      "provenance": [],
      "collapsed_sections": [],
      "include_colab_link": true
    },
    "kernelspec": {
      "name": "python3",
      "display_name": "Python 3"
    },
    "language_info": {
      "name": "python"
    }
  },
  "cells": [
    {
      "cell_type": "markdown",
      "metadata": {
        "id": "view-in-github",
        "colab_type": "text"
      },
      "source": [
        "<a href=\"https://colab.research.google.com/github/Chan0226/Reinforcement-learning-game/blob/main/%EA%B0%95%ED%99%94%ED%95%99%EC%8A%B5%EA%B3%BC%EA%B2%8C%EC%9E%843.ipynb\" target=\"_parent\"><img src=\"https://colab.research.google.com/assets/colab-badge.svg\" alt=\"Open In Colab\"/></a>"
      ]
    },
    {
      "cell_type": "markdown",
      "metadata": {
        "id": "Vs3Zl92XCjBs"
      },
      "source": [
        "## Q러닝 프로그래밍"
      ]
    },
    {
      "cell_type": "code",
      "metadata": {
        "colab": {
          "base_uri": "https://localhost:8080/"
        },
        "id": "EyX3nSVPEr3t",
        "outputId": "59e2d9b5-a9f1-4911-f6ec-9aaa41e12f0b"
      },
      "source": [
        "t = np.zeros([env.observation_space.n,env.action_space.n])\n",
        "a = env.reset() # 새로운 에피소드 시작  \n",
        "np.argwhere(t[a,:]==np.amax(t[a,:])).flatten().tolist()"
      ],
      "execution_count": null,
      "outputs": [
        {
          "output_type": "execute_result",
          "data": {
            "text/plain": [
              "[0, 1, 2, 3]"
            ]
          },
          "metadata": {},
          "execution_count": 31
        }
      ]
    },
    {
      "cell_type": "code",
      "metadata": {
        "colab": {
          "base_uri": "https://localhost:8080/"
        },
        "id": "iv2mRid7CEzD",
        "outputId": "1f573a17-a816-478d-f77d-a5738f4de98e"
      },
      "source": [
        "import gym\n",
        "import numpy as np\n",
        "\n",
        "env=gym.make('FrozenLake-v0',is_slippery=False) # 환경 생성\n",
        "Q=np.zeros([env.observation_space.n,env.action_space.n]) # Q 배열 초기화\n",
        "\n",
        "rho=0.8 # 학습률\n",
        "lamda=0.99 # 할인율\n",
        "\n",
        "n_episode=2000\n",
        "length_episode=100\n",
        "\n",
        "# 최적 행동 가치 함수 찾기\n",
        "for i in range(n_episode):\n",
        "    s=env.reset() # 새로운 에피소드 시작\n",
        "    for j in range(length_episode):\n",
        "        argmaxs=np.argwhere(Q[s,:]==np.amax(Q[s,:])).flatten().tolist()\n",
        "        a=np.random.choice(argmaxs)\n",
        "        s1,r,done,_=env.step(a)\n",
        "        Q[s,a]=Q[s,a]+rho*(r+lamda*np.max(Q[s1,:])-Q[s,a]) # 식 (9.18)  가치함수를 계산\n",
        "        s=s1\n",
        "        if done:\n",
        "            break\n",
        "\n",
        "np.set_printoptions(precision=2)\n",
        "print(Q)"
      ],
      "execution_count": null,
      "outputs": [
        {
          "output_type": "stream",
          "name": "stdout",
          "text": [
            "[[0.   0.95 0.   0.  ]\n",
            " [0.   0.   0.   0.  ]\n",
            " [0.   0.   0.   0.  ]\n",
            " [0.   0.   0.   0.  ]\n",
            " [0.   0.96 0.   0.  ]\n",
            " [0.   0.   0.   0.  ]\n",
            " [0.   0.   0.   0.  ]\n",
            " [0.   0.   0.   0.  ]\n",
            " [0.   0.   0.97 0.  ]\n",
            " [0.   0.   0.98 0.  ]\n",
            " [0.   0.99 0.   0.  ]\n",
            " [0.   0.   0.   0.  ]\n",
            " [0.   0.   0.   0.  ]\n",
            " [0.   0.   0.   0.  ]\n",
            " [0.   0.   1.   0.  ]\n",
            " [0.   0.   0.   0.  ]]\n"
          ]
        }
      ]
    },
    {
      "cell_type": "code",
      "metadata": {
        "id": "r9Ko57RACivs"
      },
      "source": [
        ""
      ],
      "execution_count": null,
      "outputs": []
    }
  ]
}